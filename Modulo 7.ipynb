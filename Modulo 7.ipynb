{
 "cells": [
  {
   "cell_type": "code",
   "execution_count": 2,
   "metadata": {},
   "outputs": [
    {
     "name": "stdout",
     "output_type": "stream",
     "text": [
      "Tierra\n",
      "Marte\n",
      "Venus\n",
      "Saturno\n"
     ]
    }
   ],
   "source": [
    "new_planet = input(\"Ingresa el nombre de algun planeta\")\n",
    "planets = []\n",
    "\n",
    "while new_planet != 'done':\n",
    "    planets.append(new_planet)\n",
    "    new_planet = input(\"Ingresa el nombre de algun planeta (SI SON TODOS LOS PLANETAS ESCRIBE 'done')\")\n",
    "\n",
    "for planet in planets:\n",
    "    print (planet)\n"
   ]
  }
 ],
 "metadata": {
  "interpreter": {
   "hash": "e1d09dc002676dd16741c4a9259ec67d45d35240c91323604ac0bcd9ca9065ab"
  },
  "kernelspec": {
   "display_name": "Python 3.10.2 64-bit",
   "language": "python",
   "name": "python3"
  },
  "language_info": {
   "codemirror_mode": {
    "name": "ipython",
    "version": 3
   },
   "file_extension": ".py",
   "mimetype": "text/x-python",
   "name": "python",
   "nbconvert_exporter": "python",
   "pygments_lexer": "ipython3",
   "version": "3.10.2"
  },
  "orig_nbformat": 4
 },
 "nbformat": 4,
 "nbformat_minor": 2
}
