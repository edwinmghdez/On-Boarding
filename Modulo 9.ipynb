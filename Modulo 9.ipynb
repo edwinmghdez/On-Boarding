{
 "cells": [
  {
   "cell_type": "code",
   "execution_count": 6,
   "metadata": {},
   "outputs": [
    {
     "name": "stdout",
     "output_type": "stream",
     "text": [
      "Reporte de Combustible:\n",
      "    Promedio total de los combustibles: 83.0%\n",
      "    Tanque 1: 67%\n",
      "    Tanque 2: 88%\n",
      "    Tanque 3: 94%\n"
     ]
    }
   ],
   "source": [
    "def informe_combustible(tanque_1, tanque_2, tanque_3):\n",
    "    return f\"\"\"Reporte de Combustible:\n",
    "    Promedio total de los combustibles: {promedio([tanque_1, tanque_2, tanque_3])}%\n",
    "    Tanque 1: {tanque_1}%\n",
    "    Tanque 2: {tanque_2}%\n",
    "    Tanque 3: {tanque_3}%\"\"\"\n",
    "\n",
    "def promedio(valores):\n",
    "    total = sum(valores)\n",
    "    items = len(valores)\n",
    "    return total/items\n",
    "\n",
    "print(informe_combustible(67, 88, 94))"
   ]
  },
  {
   "cell_type": "code",
   "execution_count": 8,
   "metadata": {},
   "outputs": [
    {
     "name": "stdout",
     "output_type": "stream",
     "text": [
      "Reporte de Misión\n",
      "    Destino Marte\n",
      "    Tiempo de vuelo 34 minutos\n",
      "    Combustible total 4500\n"
     ]
    }
   ],
   "source": [
    "def informe_cohete(hora_lanzamiento, tiempo, destino, tanque_1, tanque_2):\n",
    "    return f\"\"\"Reporte de Misión\n",
    "    Destino: {destino}\n",
    "    Tiempo de vuelo: {tiempo} minutos\n",
    "    Combustible total: {tanque_1 + tanque_2}\"\"\"\n",
    "\n",
    "print(informe_cohete(70, 34, \"Marte\", 1500, 3000))\n"
   ]
  },
  {
   "cell_type": "code",
   "execution_count": 9,
   "metadata": {},
   "outputs": [
    {
     "name": "stdout",
     "output_type": "stream",
     "text": [
      "Reporte de Misión\n",
      "    Destino: Venus\n",
      "    Tiempo de vuelo: 147 minutos\n",
      "    Combustible total: 58500\n"
     ]
    }
   ],
   "source": [
    "def informe_cohete(destino, *minutos, **tanques):\n",
    "    return f\"\"\"Reporte de Misión\n",
    "    Destino: {destino}\n",
    "    Tiempo de vuelo: {sum(minutos)} minutos\n",
    "    Combustible total: {sum(tanques.values())}\"\"\"\n",
    "\n",
    "print(informe_cohete(\"Venus\", 10, 57, 80, tanque_1=50000, tanque_2=8500))"
   ]
  },
  {
   "cell_type": "code",
   "execution_count": 12,
   "metadata": {},
   "outputs": [
    {
     "name": "stdout",
     "output_type": "stream",
     "text": [
      "Reporte de Misión\n",
      "    Destino: Venus\n",
      "    Tiempo de vuelo: 147 minutos\n",
      "    Combustible total: 58500 \n",
      "tanque_1 tanque --> 50000 galones\n",
      " \n",
      "tanque_2 tanque --> 8500 galones\n",
      "\n"
     ]
    }
   ],
   "source": [
    "def informe_cohete(destino, *minutos, **tanques):\n",
    "    reporte_general = f\"\"\"Reporte de Misión\n",
    "    Destino: {destino}\n",
    "    Tiempo de vuelo: {sum(minutos)} minutos\n",
    "    Combustible total: {sum(tanques.values())}\"\"\"\n",
    "\n",
    "    for nombre_tanque, galones in tanques.items():\n",
    "        reporte_general += f\" \\n{nombre_tanque} tanque --> {galones} galones\\n\"\n",
    "    \n",
    "    return reporte_general\n",
    "\n",
    "print(informe_cohete(\"Venus\", 10, 57, 80, tanque_1=50000, tanque_2=8500))"
   ]
  }
 ],
 "metadata": {
  "interpreter": {
   "hash": "e1d09dc002676dd16741c4a9259ec67d45d35240c91323604ac0bcd9ca9065ab"
  },
  "kernelspec": {
   "display_name": "Python 3.10.2 64-bit",
   "language": "python",
   "name": "python3"
  },
  "language_info": {
   "codemirror_mode": {
    "name": "ipython",
    "version": 3
   },
   "file_extension": ".py",
   "mimetype": "text/x-python",
   "name": "python",
   "nbconvert_exporter": "python",
   "pygments_lexer": "ipython3",
   "version": "3.10.2"
  },
  "orig_nbformat": 4
 },
 "nbformat": 4,
 "nbformat_minor": 2
}
