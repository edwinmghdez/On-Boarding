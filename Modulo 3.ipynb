{
 "cells": [
  {
   "cell_type": "code",
   "execution_count": 4,
   "metadata": {},
   "outputs": [
    {
     "name": "stdout",
     "output_type": "stream",
     "text": [
      "Un asteroide se aproxima\n"
     ]
    }
   ],
   "source": [
    "velocidad = 49;\n",
    "if velocidad > 25:\n",
    "    print(\"Un asteroide se aproxima\")\n",
    "else:\n",
    "    print(\"Sigue con tu día\")"
   ]
  },
  {
   "cell_type": "code",
   "execution_count": 6,
   "metadata": {},
   "outputs": [
    {
     "name": "stdout",
     "output_type": "stream",
     "text": [
      "Aquí no hay nada\n"
     ]
    }
   ],
   "source": [
    "velocidad = 19\n",
    "if velocidad >20:\n",
    "    print(\"Hay una luz en el cielo\")\n",
    "elif velocidad == 20:\n",
    "    print(\"Hay una luz en el cielo\")\n",
    "else:\n",
    "    print(\"Aquí no hay nada\")"
   ]
  },
  {
   "cell_type": "code",
   "execution_count": 8,
   "metadata": {},
   "outputs": [
    {
     "name": "stdout",
     "output_type": "stream",
     "text": [
      "Advertencia, se acerca un asteroide\n"
     ]
    }
   ],
   "source": [
    "velocidad = 25\n",
    "tamano = 70\n",
    "if velocidad > 20 and tamano > 25:\n",
    "    print(\"Advertencia, se acerca un asteroide\")\n",
    "elif velocidad >= 20:\n",
    "    print(\"Advertencia, se acerca un asteroide\")\n",
    "elif tamano < 25:\n",
    "    print(\"Aquí  o hay nada\")\n",
    "else:\n",
    "    print(\"Aquí no hay nada\")"
   ]
  }
 ],
 "metadata": {
  "interpreter": {
   "hash": "e1d09dc002676dd16741c4a9259ec67d45d35240c91323604ac0bcd9ca9065ab"
  },
  "kernelspec": {
   "display_name": "Python 3.10.2 64-bit",
   "language": "python",
   "name": "python3"
  },
  "language_info": {
   "codemirror_mode": {
    "name": "ipython",
    "version": 3
   },
   "file_extension": ".py",
   "mimetype": "text/x-python",
   "name": "python",
   "nbconvert_exporter": "python",
   "pygments_lexer": "ipython3",
   "version": "3.10.2"
  },
  "orig_nbformat": 4
 },
 "nbformat": 4,
 "nbformat_minor": 2
}
